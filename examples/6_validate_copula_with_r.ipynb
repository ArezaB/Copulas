{
 "cells": [
  {
   "cell_type": "markdown",
   "metadata": {},
   "source": [
    "# Validating Copulas with R\n",
    "This notebook can be used to independently verify the parameters for the bivariate test cases."
   ]
  },
  {
   "cell_type": "code",
   "execution_count": 1,
   "metadata": {},
   "outputs": [
    {
     "name": "stdout",
     "output_type": "stream",
     "text": [
      "     [,1] [,2]\n",
      "[1,]  0.2  0.1\n",
      "[2,]  0.2  0.3\n",
      "[3,]  0.4  0.5\n",
      "[4,]  0.6  0.4\n",
      "[5,]  0.8  0.6\n",
      "[6,]  0.8  0.9\n"
     ]
    }
   ],
   "source": [
    "library(copula)\n",
    "X <- matrix( \n",
    "    c(0.2, 0.2, 0.4, 0.6, 0.8, 0.8,\n",
    "      0.1, 0.3, 0.5, 0.4, 0.6, 0.9), \n",
    "    nrow=6, ncol=2\n",
    ")\n",
    "print(X)"
   ]
  },
  {
   "cell_type": "code",
   "execution_count": 2,
   "metadata": {},
   "outputs": [
    {
     "name": "stdout",
     "output_type": "stream",
     "text": [
      "[1] \"Theta         = 7.42180109409347\"\n",
      "[1] \"PDF(0.2, 0.2) = 9.58865664723875\"\n",
      "[1] \"CDF(0.2, 0.2) = 0.182167102545665\"\n",
      "[1] \"PDF(0.6, 0.61) = 3.23944273635198\"\n",
      "[1] \"CDF(0.6, 0.61) = 0.551791815324891\"\n"
     ]
    }
   ],
   "source": [
    "copula = claytonCopula\n",
    "theta = unname(coef(fitCopula(copula(), data = X, method = \"itau\")))\n",
    "print(sprintf(\"Theta         = %s\", theta))\n",
    "print(sprintf(\"PDF(0.2, 0.2) = %s\", dCopula(c(0.2, 0.2), copula(theta))))\n",
    "print(sprintf(\"CDF(0.2, 0.2) = %s\", pCopula(c(0.2, 0.2), copula(theta))))\n",
    "print(sprintf(\"PDF(0.6, 0.61) = %s\", dCopula(c(0.6, 0.61), copula(theta))))\n",
    "print(sprintf(\"CDF(0.6, 0.61) = %s\", pCopula(c(0.6, 0.61), copula(theta))))"
   ]
  },
  {
   "cell_type": "code",
   "execution_count": 3,
   "metadata": {},
   "outputs": [
    {
     "name": "stdout",
     "output_type": "stream",
     "text": [
      "[1] \"Theta         = 17.0227133037689\"\n",
      "[1] \"PDF(0.2, 0.2) = 4.40066821371959\"\n",
      "[1] \"CDF(0.2, 0.2) = 0.160265083797942\"\n",
      "[1] \"PDF(0.6, 0.61) = 4.23020259469402\"\n",
      "[1] \"CDF(0.6, 0.61) = 0.564104678026984\"\n"
     ]
    }
   ],
   "source": [
    "copula = frankCopula\n",
    "theta = unname(coef(fitCopula(copula(), data = X, method = \"itau\")))\n",
    "print(sprintf(\"Theta         = %s\", theta))\n",
    "print(sprintf(\"PDF(0.2, 0.2) = %s\", dCopula(c(0.2, 0.2), copula(theta))))\n",
    "print(sprintf(\"CDF(0.2, 0.2) = %s\", pCopula(c(0.2, 0.2), copula(theta))))\n",
    "print(sprintf(\"PDF(0.6, 0.61) = %s\", dCopula(c(0.6, 0.61), copula(theta))))\n",
    "print(sprintf(\"CDF(0.6, 0.61) = %s\", pCopula(c(0.6, 0.61), copula(theta))))"
   ]
  },
  {
   "cell_type": "code",
   "execution_count": 4,
   "metadata": {},
   "outputs": [
    {
     "name": "stdout",
     "output_type": "stream",
     "text": [
      "[1] \"Theta         = 4.71090054704673\"\n",
      "[1] \"PDF(0.2, 0.2) = 3.88706047305388\"\n",
      "[1] \"CDF(0.2, 0.2) = 0.154965312760374\"\n",
      "[1] \"PDF(0.6, 0.61) = 3.75596463385093\"\n",
      "[1] \"CDF(0.6, 0.61) = 0.558491939971305\"\n"
     ]
    }
   ],
   "source": [
    "copula = gumbelCopula\n",
    "theta = unname(coef(fitCopula(copula(), data = X, method = \"itau\")))\n",
    "print(sprintf(\"Theta         = %s\", theta))\n",
    "print(sprintf(\"PDF(0.2, 0.2) = %s\", dCopula(c(0.2, 0.2), copula(theta))))\n",
    "print(sprintf(\"CDF(0.2, 0.2) = %s\", pCopula(c(0.2, 0.2), copula(theta))))\n",
    "print(sprintf(\"PDF(0.6, 0.61) = %s\", dCopula(c(0.6, 0.61), copula(theta))))\n",
    "print(sprintf(\"CDF(0.6, 0.61) = %s\", pCopula(c(0.6, 0.61), copula(theta))))"
   ]
  }
 ],
 "metadata": {
  "kernelspec": {
   "display_name": "R",
   "language": "R",
   "name": "ir"
  },
  "language_info": {
   "codemirror_mode": "r",
   "file_extension": ".r",
   "mimetype": "text/x-r-source",
   "name": "R",
   "pygments_lexer": "r",
   "version": "3.6.2"
  }
 },
 "nbformat": 4,
 "nbformat_minor": 4
}
