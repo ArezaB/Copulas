{
 "cells": [
  {
   "cell_type": "code",
   "execution_count": null,
   "metadata": {},
   "outputs": [],
   "source": [
    "import logging\n",
    "from io import BytesIO\n",
    "\n",
    "import boto3 \n",
    "from botocore import UNSIGNED\n",
    "from botocore.client import Config\n",
    "import numpy as np\n",
    "import pandas as pd\n",
    "\n",
    "from copulas.multivariate.GaussianCopula import GaussianCopula\n",
    "\n",
    "LOGGER = logging.getLogger(__name__)"
   ]
  },
  {
   "cell_type": "code",
   "execution_count": null,
   "metadata": {},
   "outputs": [],
   "source": [
    "BUCKET = 'copulas-data-store'\n",
    "RESOURCE = 's3'\n",
    "REGION_NAME = 'us-east-1'\n",
    "FILE_NAME = 'glass_1_train.csv'"
   ]
  },
  {
   "cell_type": "code",
   "execution_count": null,
   "metadata": {},
   "outputs": [],
   "source": [
    "def get_resources():\n",
    "    return boto3.resource(\n",
    "        RESOURCE,\n",
    "        region_name=REGION_NAME,\n",
    "        config=Config(signature_version=UNSIGNED)\n",
    "    )"
   ]
  },
  {
   "cell_type": "code",
   "execution_count": null,
   "metadata": {},
   "outputs": [],
   "source": [
    "def clean_dataset(data):\n",
    "    numerical_col=[]\n",
    "    \n",
    "    for column in data.columns:\n",
    "        if (data[column].astype(int) == data[column]).all():\n",
    "            numerical_col.append(column)\n",
    "\n",
    "    data.drop(data.columns[numerical_col], axis=1, inplace=True)\n",
    "    data.columns = range(data.shape[1])\n",
    "            \n",
    "    return data"
   ]
  },
  {
   "cell_type": "code",
   "execution_count": null,
   "metadata": {
    "scrolled": false
   },
   "outputs": [],
   "source": [
    "def get_dataset():\n",
    "    resources = get_resources()\n",
    "    bucket = resources.Bucket(BUCKET)\n",
    "\n",
    "    key_data = FILE_NAME\n",
    "    obj = bucket.Object(key=key_data)\n",
    "\n",
    "    stream = BytesIO(obj.get()['Body'].read())\n",
    "    data = pd.read_csv(stream, header=None)\n",
    "    data = clean_dataset(data)\n",
    "\n",
    "    return data"
   ]
  },
  {
   "cell_type": "code",
   "execution_count": null,
   "metadata": {},
   "outputs": [],
   "source": [
    "copula = GaussianCopula()\n",
    "data = get_dataset()\n",
    "\n",
    "copula.fit(data)\n",
    "print(copula)"
   ]
  },
  {
   "cell_type": "code",
   "execution_count": null,
   "metadata": {},
   "outputs": [],
   "source": [
    "samples = copula.sample(data.shape[0])\n",
    "samples.head(5)"
   ]
  },
  {
   "cell_type": "code",
   "execution_count": null,
   "metadata": {
    "scrolled": false
   },
   "outputs": [],
   "source": [
    "column = 3\n",
    "\n",
    "if column:\n",
    "    data_hist = data[column].hist(bins=25, figsize=(18,12), weights=np.zeros_like(data[column]) + 1. / data[column].size)\n",
    "    samples_hist = samples[column].hist(bins=25, figsize=(18,12), weights=np.zeros_like(samples[column]) + 1. / samples[column].size)"
   ]
  }
 ],
 "metadata": {
  "kernelspec": {
   "display_name": "Python 3",
   "language": "python",
   "name": "python3"
  },
  "language_info": {
   "codemirror_mode": {
    "name": "ipython",
    "version": 3
   },
   "file_extension": ".py",
   "mimetype": "text/x-python",
   "name": "python",
   "nbconvert_exporter": "python",
   "pygments_lexer": "ipython3",
   "version": "3.6.5"
  }
 },
 "nbformat": 4,
 "nbformat_minor": 2
}
