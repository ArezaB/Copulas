{
 "cells": [
  {
   "cell_type": "markdown",
   "metadata": {},
   "source": [
    "# Univariate Distributions\n",
    "\n",
    "All the examples in the introduction focused exclusively on the Normal (or Gaussian) Distribution over a single\n",
    "random variable, but lots of other univariate distributions exist.\n",
    "\n",
    "The **Copulas** library supports several of them through the `Univariate` subclasses defined within the\n",
    "`copulas.univariate` package:\n",
    "\n",
    "* `copulas.univariate.BetaUnivariate`: Implements a Beta distribution.\n",
    "* `copulas.univariate.GammaUnivariate`: Implements a Gamma distribution.\n",
    "* `copulas.univariate.GaussianKDE`: Implements a Kernel-Density Estimate using a Gaussian kernel.\n",
    "* `copulas.univariate.GaussianUnivariate`: Implements a Gaussian (or Normal) distribution.\n",
    "* `copulas.univariate.TruncatedGaussian`: Implements a Truncated Gaussian distribution.\n",
    "\n",
    "Let's explore an example of how to use a `Univariate` subclass.\n",
    "\n",
    "## Univariate Usage Example\n",
    "\n",
    "In this example we will be focusing on the `BetaUnivariate` class, which implements a [Beta Distribution](https://en.wikipedia.org/wiki/Beta_distribution).\n",
    "\n",
    "This distribution is parameterized by two positive shape parameters, $α$ and $β$, which in our implementation are called $a$ and $b$.\n",
    "\n",
    "Additionally, our implementation also uses the same `loc` and `scale` arguments as the underlying `scipy.stats.beta` model that we are using.\n",
    "\n",
    "For this example, we will be using a simulated dataset that follows the beta distribution with parameters $a = 3$, $b = 1$, $loc = 4$ and $scale = 1$."
   ]
  },
  {
   "cell_type": "code",
   "execution_count": 1,
   "metadata": {
    "nbsphinx": "hidden"
   },
   "outputs": [],
   "source": [
    "import warnings\n",
    "warnings.filterwarnings('ignore')"
   ]
  },
  {
   "cell_type": "code",
   "execution_count": 2,
   "metadata": {},
   "outputs": [],
   "source": [
    "from copulas.datasets import sample_univariate_beta\n",
    "\n",
    "data = sample_univariate_beta()"
   ]
  },
  {
   "cell_type": "code",
   "execution_count": 3,
   "metadata": {},
   "outputs": [
    {
     "data": {
      "text/plain": [
       "0    4.796025\n",
       "1    4.935189\n",
       "2    4.637677\n",
       "3    4.945320\n",
       "4    4.726815\n",
       "dtype: float64"
      ]
     },
     "execution_count": 3,
     "metadata": {},
     "output_type": "execute_result"
    }
   ],
   "source": [
    "data.head()"
   ]
  },
  {
   "cell_type": "code",
   "execution_count": 4,
   "metadata": {},
   "outputs": [
    {
     "data": {
      "text/plain": [
       "<matplotlib.axes._subplots.AxesSubplot at 0x7f2f587b86a0>"
      ]
     },
     "execution_count": 4,
     "metadata": {},
     "output_type": "execute_result"
    },
    {
     "data": {
      "image/png": "[encoded data removed]",
      "text/plain": [
       "<Figure size 432x288 with 1 Axes>"
      ]
     },
     "metadata": {
      "needs_background": "light"
     },
     "output_type": "display_data"
    }
   ],
   "source": [
    "from copulas.visualization import hist_1d\n",
    "\n",
    "hist_1d(data)"
   ]
  },
  {
   "cell_type": "markdown",
   "metadata": {},
   "source": [
    "### Fitting the model\n",
    "\n",
    "The first step to use our `BetaUnivariate` model is to fit it to the data by passing the `data` to\n",
    "its `fit` method."
   ]
  },
  {
   "cell_type": "code",
   "execution_count": 5,
   "metadata": {},
   "outputs": [],
   "source": [
    "from copulas.univariate import BetaUnivariate\n",
    "\n",
    "beta = BetaUnivariate()\n",
    "beta.fit(data)"
   ]
  },
  {
   "cell_type": "markdown",
   "metadata": {},
   "source": [
    "After the model has been fitted, we can observe the parameters that it has aproximated from the data."
   ]
  },
  {
   "cell_type": "code",
   "execution_count": 6,
   "metadata": {},
   "outputs": [
    {
     "data": {
      "text/plain": [
       "{'loc': 4.095558923695414,\n",
       " 'scale': 0.9044258869808379,\n",
       " 'a': 2.552323190906777,\n",
       " 'b': 0.9041091899047261}"
      ]
     },
     "execution_count": 6,
     "metadata": {},
     "output_type": "execute_result"
    }
   ],
   "source": [
    "beta._params"
   ]
  },
  {
   "cell_type": "markdown",
   "metadata": {},
   "source": [
    "### Sampling new data\n",
    "\n",
    "Once the model is fitted, we can generate new data that follows a similar distribution.\n",
    "\n",
    "To do this, we can call the `sample` method of our `beta` object, passing the number\n",
    "of samples that we want to generate."
   ]
  },
  {
   "cell_type": "code",
   "execution_count": 7,
   "metadata": {},
   "outputs": [],
   "source": [
    "sampled = beta.sample(1000)"
   ]
  },
  {
   "cell_type": "markdown",
   "metadata": {},
   "source": [
    "We can compare the distribution of the real data to the sampled one by plotting both\n",
    "histograms together."
   ]
  },
  {
   "cell_type": "code",
   "execution_count": 8,
   "metadata": {},
   "outputs": [
    {
     "data": {
      "image/png": "[encoded data removed]",
      "text/plain": [
       "<Figure size 360x432 with 1 Axes>"
      ]
     },
     "metadata": {
      "needs_background": "light"
     },
     "output_type": "display_data"
    }
   ],
   "source": [
    "from copulas.visualization import compare_1d\n",
    "\n",
    "compare_1d(data, sampled)"
   ]
  },
  {
   "cell_type": "markdown",
   "metadata": {},
   "source": [
    "### Probability Density\n",
    "\n",
    "The probability density of a Beta distribution is defined by\n",
    "\n",
    "\\begin{equation}\n",
    "\\frac{x^{\\alpha -1}(1-x)^{\\beta -1}}\n",
    "     {B(\\alpha ,\\beta)}\n",
    "\\end{equation}\n",
    "\n",
    "where $B(\\alpha,\\beta)$ is the Beta function defined as\n",
    "\n",
    "\\begin{equation}\n",
    "B(\\alpha, \\beta) = \\frac{\\Gamma (\\alpha )\\Gamma (\\beta )}\n",
    "                        {\\Gamma (\\alpha +\\beta )}\n",
    "\\end{equation}\n",
    "\n",
    "and $\\Gamma$ is the Gamma function.\n",
    "\n",
    "The probability density can be computed for an array of data points using the `probability_density` method."
   ]
  },
  {
   "cell_type": "code",
   "execution_count": 9,
   "metadata": {},
   "outputs": [],
   "source": [
    "probability_density = beta.pdf(sampled)"
   ]
  },
  {
   "cell_type": "code",
   "execution_count": 10,
   "metadata": {},
   "outputs": [
    {
     "data": {
      "text/plain": [
       "array([3.96772858, 1.67572128, 1.90369638, 3.51125542, 0.71732109])"
      ]
     },
     "execution_count": 10,
     "metadata": {},
     "output_type": "execute_result"
    }
   ],
   "source": [
    "probability_density[0:5]"
   ]
  },
  {
   "cell_type": "markdown",
   "metadata": {},
   "source": [
    "If we plot the probability densities sorted by the sampled values we will get a better notion\n",
    "of their behavior."
   ]
  },
  {
   "cell_type": "code",
   "execution_count": 11,
   "metadata": {},
   "outputs": [
    {
     "data": {
      "text/plain": [
       "<matplotlib.axes._subplots.AxesSubplot at 0x7f2f55d6fd30>"
      ]
     },
     "execution_count": 11,
     "metadata": {},
     "output_type": "execute_result"
    },
    {
     "data": {
      "image/png": "[encoded data removed]",
      "text/plain": [
       "<Figure size 432x288 with 1 Axes>"
      ]
     },
     "metadata": {
      "needs_background": "light"
     },
     "output_type": "display_data"
    }
   ],
   "source": [
    "import pandas as pd\n",
    "\n",
    "pd.DataFrame({\n",
    "    'data': sampled,\n",
    "    'probability_density': probability_density\n",
    "}).sort_values('data').set_index('data').plot()"
   ]
  },
  {
   "cell_type": "markdown",
   "metadata": {},
   "source": [
    "### Cumulative Distribution\n",
    "\n",
    "The cumulative distribution of Beta distribution is defined by:\n",
    "\n",
    "\\begin{equation}\n",
    "p = F(x, a, b) = \\frac{1}{B(a, b)}\\int_{0}^{x}t^{a - 1}{(1 - t)}^{b - 1}dt\n",
    "\\end{equation}\n",
    "\n",
    "where $B(\\alpha,\\beta)$ is the Beta function defined above.\n",
    "\n",
    "The cumulative distribution can be computed for an array of data points using the\n",
    "`cumulative_distribution` method."
   ]
  },
  {
   "cell_type": "code",
   "execution_count": 12,
   "metadata": {},
   "outputs": [],
   "source": [
    "cumulative_distribution = beta.cumulative_distribution(sampled)"
   ]
  },
  {
   "cell_type": "code",
   "execution_count": 13,
   "metadata": {},
   "outputs": [
    {
     "data": {
      "text/plain": [
       "array([0.98185868, 0.4148939 , 0.49927947, 0.95037356, 0.11102835])"
      ]
     },
     "execution_count": 13,
     "metadata": {},
     "output_type": "execute_result"
    }
   ],
   "source": [
    "cumulative_distribution[0:5]"
   ]
  },
  {
   "cell_type": "markdown",
   "metadata": {},
   "source": [
    "Like with probability densities, if we plot the cumulative distribution values\n",
    "sorted by the input data, we will get a better notion of how it behaves"
   ]
  },
  {
   "cell_type": "code",
   "execution_count": 14,
   "metadata": {},
   "outputs": [
    {
     "data": {
      "text/plain": [
       "<matplotlib.axes._subplots.AxesSubplot at 0x7f2f55c3fb70>"
      ]
     },
     "execution_count": 14,
     "metadata": {},
     "output_type": "execute_result"
    },
    {
     "data": {
      "image/png": "[encoded data removed]",
      "text/plain": [
       "<Figure size 432x288 with 1 Axes>"
      ]
     },
     "metadata": {
      "needs_background": "light"
     },
     "output_type": "display_data"
    }
   ],
   "source": [
    "pd.DataFrame({\n",
    "    'data': sampled,\n",
    "    'cumulative distribution': cumulative_distribution\n",
    "}).sort_values('data').set_index('data').plot()"
   ]
  },
  {
   "cell_type": "markdown",
   "metadata": {},
   "source": [
    "### to_dict and from_dict\n",
    "\n",
    "All the `Univariate` classes implement a `to_dict` method that allows obtaining\n",
    "all the parameters that define the distribution in a python dictionary."
   ]
  },
  {
   "cell_type": "code",
   "execution_count": 15,
   "metadata": {},
   "outputs": [],
   "source": [
    "parameters = beta.to_dict()"
   ]
  },
  {
   "cell_type": "code",
   "execution_count": 16,
   "metadata": {},
   "outputs": [
    {
     "data": {
      "text/plain": [
       "{'loc': 4.095558923695414,\n",
       " 'scale': 0.9044258869808379,\n",
       " 'a': 2.552323190906777,\n",
       " 'b': 0.9041091899047261,\n",
       " 'type': 'copulas.univariate.beta.BetaUnivariate'}"
      ]
     },
     "execution_count": 16,
     "metadata": {},
     "output_type": "execute_result"
    }
   ],
   "source": [
    "parameters"
   ]
  },
  {
   "cell_type": "markdown",
   "metadata": {},
   "source": [
    "This `parameters` dictionary can be later on passed to the `Univariate.from_dict` class method,\n",
    "which will create an instance of our model with the same parameters as before."
   ]
  },
  {
   "cell_type": "code",
   "execution_count": 17,
   "metadata": {},
   "outputs": [],
   "source": [
    "from copulas.univariate import Univariate\n",
    "\n",
    "new_beta = Univariate.from_dict(parameters)"
   ]
  },
  {
   "cell_type": "markdown",
   "metadata": {},
   "source": [
    "We can sample some more data again to see how it still behaves as expected."
   ]
  },
  {
   "cell_type": "code",
   "execution_count": 18,
   "metadata": {},
   "outputs": [
    {
     "data": {
      "image/png": "[encoded data removed]",
      "text/plain": [
       "<Figure size 360x432 with 1 Axes>"
      ]
     },
     "metadata": {
      "needs_background": "light"
     },
     "output_type": "display_data"
    }
   ],
   "source": [
    "new_sampled = new_beta.sample(1000)\n",
    "\n",
    "compare_1d(data, new_sampled)"
   ]
  },
  {
   "cell_type": "markdown",
   "metadata": {},
   "source": [
    "## Selecting the best Univariate\n",
    "\n",
    "A part from the specific `Univariate` subclasses, **Copulas** allows you to use the `Univariate` parent\n",
    "class as a generic distribution.\n",
    "\n",
    "### Fitting a generic Univariate\n",
    "\n",
    "When this class is used directly and fitted to the data, it will automatically search for the `Univariate`\n",
    "subclass that better fits to the data.\n",
    "\n",
    "Let's see what happens when we fit it to the data that we were using above."
   ]
  },
  {
   "cell_type": "code",
   "execution_count": 19,
   "metadata": {},
   "outputs": [],
   "source": [
    "from copulas.univariate import Univariate\n",
    "\n",
    "univariate = Univariate()\n",
    "univariate.fit(data)"
   ]
  },
  {
   "cell_type": "markdown",
   "metadata": {},
   "source": [
    "In order to see which subclass has been chosen and with which parameters,\n",
    "we can call the `to_dict` method."
   ]
  },
  {
   "cell_type": "code",
   "execution_count": 20,
   "metadata": {},
   "outputs": [],
   "source": [
    "parameters = univariate.to_dict()"
   ]
  },
  {
   "cell_type": "code",
   "execution_count": 21,
   "metadata": {},
   "outputs": [
    {
     "data": {
      "text/plain": [
       "{'loc': 4.095558923695414,\n",
       " 'scale': 0.9044258869808379,\n",
       " 'a': 2.552323190906777,\n",
       " 'b': 0.9041091899047261,\n",
       " 'type': 'copulas.univariate.beta.BetaUnivariate'}"
      ]
     },
     "execution_count": 21,
     "metadata": {},
     "output_type": "execute_result"
    }
   ],
   "source": [
    "parameters"
   ]
  },
  {
   "cell_type": "markdown",
   "metadata": {},
   "source": [
    "We can observe here how the `Univariate` class automatically selected the `BetaUnivariate`\n",
    "as the best distribution for our data, and how it learned the same parameters as before."
   ]
  },
  {
   "cell_type": "markdown",
   "metadata": {},
   "source": [
    "Let's go a bit further and see what happens when we fit `Univariate` instances on data\n",
    "with different distributions:"
   ]
  },
  {
   "cell_type": "code",
   "execution_count": 22,
   "metadata": {},
   "outputs": [],
   "source": [
    "from copulas.datasets import sample_univariates\n",
    "\n",
    "data = sample_univariates()"
   ]
  },
  {
   "cell_type": "code",
   "execution_count": 23,
   "metadata": {},
   "outputs": [
    {
     "data": {
      "text/html": [
       "<div>\n",
       "<style scoped>\n",
       "    .dataframe tbody tr th:only-of-type {\n",
       "        vertical-align: middle;\n",
       "    }\n",
       "\n",
       "    .dataframe tbody tr th {\n",
       "        vertical-align: top;\n",
       "    }\n",
       "\n",
       "    .dataframe thead th {\n",
       "        text-align: right;\n",
       "    }\n",
       "</style>\n",
       "<table border=\"1\" class=\"dataframe\">\n",
       "  <thead>\n",
       "    <tr style=\"text-align: right;\">\n",
       "      <th></th>\n",
       "      <th>bernoulli</th>\n",
       "      <th>bimodal</th>\n",
       "      <th>uniform</th>\n",
       "      <th>normal</th>\n",
       "      <th>degenerate</th>\n",
       "      <th>exponential</th>\n",
       "      <th>beta</th>\n",
       "    </tr>\n",
       "  </thead>\n",
       "  <tbody>\n",
       "    <tr>\n",
       "      <th>0</th>\n",
       "      <td>0.0</td>\n",
       "      <td>11.399355</td>\n",
       "      <td>0.498160</td>\n",
       "      <td>1.496714</td>\n",
       "      <td>0.37454</td>\n",
       "      <td>3.469268</td>\n",
       "      <td>4.796025</td>\n",
       "    </tr>\n",
       "    <tr>\n",
       "      <th>1</th>\n",
       "      <td>0.0</td>\n",
       "      <td>10.924634</td>\n",
       "      <td>2.802857</td>\n",
       "      <td>0.861736</td>\n",
       "      <td>0.37454</td>\n",
       "      <td>6.010121</td>\n",
       "      <td>4.935189</td>\n",
       "    </tr>\n",
       "    <tr>\n",
       "      <th>2</th>\n",
       "      <td>0.0</td>\n",
       "      <td>10.059630</td>\n",
       "      <td>1.927976</td>\n",
       "      <td>1.647689</td>\n",
       "      <td>0.37454</td>\n",
       "      <td>4.316746</td>\n",
       "      <td>4.637677</td>\n",
       "    </tr>\n",
       "    <tr>\n",
       "      <th>3</th>\n",
       "      <td>0.0</td>\n",
       "      <td>9.353063</td>\n",
       "      <td>1.394634</td>\n",
       "      <td>2.523030</td>\n",
       "      <td>0.37454</td>\n",
       "      <td>3.912943</td>\n",
       "      <td>4.945320</td>\n",
       "    </tr>\n",
       "    <tr>\n",
       "      <th>4</th>\n",
       "      <td>1.0</td>\n",
       "      <td>-0.234153</td>\n",
       "      <td>-0.375925</td>\n",
       "      <td>0.765847</td>\n",
       "      <td>0.37454</td>\n",
       "      <td>3.169625</td>\n",
       "      <td>4.726815</td>\n",
       "    </tr>\n",
       "  </tbody>\n",
       "</table>\n",
       "</div>"
      ],
      "text/plain": [
       "   bernoulli    bimodal   uniform    normal  degenerate  exponential      beta\n",
       "0        0.0  11.399355  0.498160  1.496714     0.37454     3.469268  4.796025\n",
       "1        0.0  10.924634  2.802857  0.861736     0.37454     6.010121  4.935189\n",
       "2        0.0  10.059630  1.927976  1.647689     0.37454     4.316746  4.637677\n",
       "3        0.0   9.353063  1.394634  2.523030     0.37454     3.912943  4.945320\n",
       "4        1.0  -0.234153 -0.375925  0.765847     0.37454     3.169625  4.726815"
      ]
     },
     "execution_count": 23,
     "metadata": {},
     "output_type": "execute_result"
    }
   ],
   "source": [
    "data.head()"
   ]
  },
  {
   "cell_type": "code",
   "execution_count": 24,
   "metadata": {
    "scrolled": false
   },
   "outputs": [],
   "source": [
    "synth_data = pd.DataFrame()\n",
    "distributions = []\n",
    "\n",
    "for column in data.columns:\n",
    "    real_data = data[column]\n",
    "    univariate = Univariate()\n",
    "    univariate.fit(real_data)\n",
    "    synth_data[column] = univariate.sample(len(real_data))\n",
    "    distributions.append(univariate.to_dict()['type'])"
   ]
  },
  {
   "cell_type": "code",
   "execution_count": 25,
   "metadata": {},
   "outputs": [
    {
     "data": {
      "text/html": [
       "<div>\n",
       "<style scoped>\n",
       "    .dataframe tbody tr th:only-of-type {\n",
       "        vertical-align: middle;\n",
       "    }\n",
       "\n",
       "    .dataframe tbody tr th {\n",
       "        vertical-align: top;\n",
       "    }\n",
       "\n",
       "    .dataframe thead th {\n",
       "        text-align: right;\n",
       "    }\n",
       "</style>\n",
       "<table border=\"1\" class=\"dataframe\">\n",
       "  <thead>\n",
       "    <tr style=\"text-align: right;\">\n",
       "      <th></th>\n",
       "      <th>bernoulli</th>\n",
       "      <th>bimodal</th>\n",
       "      <th>uniform</th>\n",
       "      <th>normal</th>\n",
       "      <th>degenerate</th>\n",
       "      <th>exponential</th>\n",
       "      <th>beta</th>\n",
       "    </tr>\n",
       "  </thead>\n",
       "  <tbody>\n",
       "    <tr>\n",
       "      <th>0</th>\n",
       "      <td>0.126054</td>\n",
       "      <td>1.950079</td>\n",
       "      <td>0.833157</td>\n",
       "      <td>1.154327</td>\n",
       "      <td>0.37454</td>\n",
       "      <td>3.014643</td>\n",
       "      <td>4.990397</td>\n",
       "    </tr>\n",
       "    <tr>\n",
       "      <th>1</th>\n",
       "      <td>-0.216558</td>\n",
       "      <td>13.461737</td>\n",
       "      <td>2.131687</td>\n",
       "      <td>-0.031510</td>\n",
       "      <td>0.37454</td>\n",
       "      <td>3.205208</td>\n",
       "      <td>4.781987</td>\n",
       "    </tr>\n",
       "    <tr>\n",
       "      <th>2</th>\n",
       "      <td>0.158551</td>\n",
       "      <td>1.011978</td>\n",
       "      <td>0.274088</td>\n",
       "      <td>1.563969</td>\n",
       "      <td>0.37454</td>\n",
       "      <td>4.097697</td>\n",
       "      <td>4.982117</td>\n",
       "    </tr>\n",
       "    <tr>\n",
       "      <th>3</th>\n",
       "      <td>0.151797</td>\n",
       "      <td>9.476947</td>\n",
       "      <td>0.527291</td>\n",
       "      <td>0.698796</td>\n",
       "      <td>0.37454</td>\n",
       "      <td>3.031567</td>\n",
       "      <td>4.809642</td>\n",
       "    </tr>\n",
       "    <tr>\n",
       "      <th>4</th>\n",
       "      <td>1.023261</td>\n",
       "      <td>0.982005</td>\n",
       "      <td>1.266706</td>\n",
       "      <td>0.890644</td>\n",
       "      <td>0.37454</td>\n",
       "      <td>5.713887</td>\n",
       "      <td>4.724303</td>\n",
       "    </tr>\n",
       "  </tbody>\n",
       "</table>\n",
       "</div>"
      ],
      "text/plain": [
       "   bernoulli    bimodal   uniform    normal  degenerate  exponential      beta\n",
       "0   0.126054   1.950079  0.833157  1.154327     0.37454     3.014643  4.990397\n",
       "1  -0.216558  13.461737  2.131687 -0.031510     0.37454     3.205208  4.781987\n",
       "2   0.158551   1.011978  0.274088  1.563969     0.37454     4.097697  4.982117\n",
       "3   0.151797   9.476947  0.527291  0.698796     0.37454     3.031567  4.809642\n",
       "4   1.023261   0.982005  1.266706  0.890644     0.37454     5.713887  4.724303"
      ]
     },
     "execution_count": 25,
     "metadata": {},
     "output_type": "execute_result"
    }
   ],
   "source": [
    "synth_data.head()"
   ]
  },
  {
   "cell_type": "code",
   "execution_count": 26,
   "metadata": {},
   "outputs": [
    {
     "data": {
      "text/plain": [
       "['copulas.univariate.gaussian_kde.GaussianKDE',\n",
       " 'copulas.univariate.gaussian_kde.GaussianKDE',\n",
       " 'copulas.univariate.beta.BetaUnivariate',\n",
       " 'copulas.univariate.gaussian_kde.GaussianKDE',\n",
       " 'copulas.univariate.beta.BetaUnivariate',\n",
       " 'copulas.univariate.gamma.GammaUnivariate',\n",
       " 'copulas.univariate.beta.BetaUnivariate']"
      ]
     },
     "execution_count": 26,
     "metadata": {},
     "output_type": "execute_result"
    }
   ],
   "source": [
    "distributions"
   ]
  },
  {
   "cell_type": "code",
   "execution_count": 27,
   "metadata": {},
   "outputs": [
    {
     "data": {
      "image/png": "[encoded data removed]",
      "text/plain": [
       "<Figure size 720x864 with 7 Axes>"
      ]
     },
     "metadata": {
      "needs_background": "light"
     },
     "output_type": "display_data"
    }
   ],
   "source": [
    "compare_1d(data, synth_data)"
   ]
  },
  {
   "cell_type": "markdown",
   "metadata": {},
   "source": [
    "### Recreating the Univariate\n",
    "\n",
    "As we learned before, the `Univariate.from_dict` class method can be used to recreate our model."
   ]
  },
  {
   "cell_type": "code",
   "execution_count": 28,
   "metadata": {},
   "outputs": [],
   "source": [
    "univariate = Univariate()\n",
    "univariate.fit(data['beta'])\n",
    "new_model = Univariate.from_dict(parameters)"
   ]
  },
  {
   "cell_type": "markdown",
   "metadata": {},
   "source": [
    "Notice, though, how in this case the model will not be an instance of the class `Univariate` anymore,\n",
    "but rather an instance of the corresponding subclass, `BetaUnivariate`."
   ]
  },
  {
   "cell_type": "code",
   "execution_count": 29,
   "metadata": {},
   "outputs": [
    {
     "data": {
      "text/plain": [
       "copulas.univariate.beta.BetaUnivariate"
      ]
     },
     "execution_count": 29,
     "metadata": {},
     "output_type": "execute_result"
    }
   ],
   "source": [
    "new_model.__class__"
   ]
  },
  {
   "cell_type": "markdown",
   "metadata": {},
   "source": [
    "### Univariate Families\n",
    "\n",
    "In some cases, we might want to add some constraints in order to restrict the search to only\n",
    "some `Univariate` distributions.\n",
    "\n",
    "This can be achieved by creating and passing a list of candidate subclasses to our `Univariate` class.\n",
    "\n",
    "For example, let's restrict the search over the `bimodal` column of our dataset restricting the\n",
    "search to only the `BetaUnivariate`, the `GaussianUnivariate` and the `GammaUnivariate`."
   ]
  },
  {
   "cell_type": "code",
   "execution_count": 30,
   "metadata": {},
   "outputs": [
    {
     "data": {
      "text/plain": [
       "{'loc': 6.830066099361434,\n",
       " 'scale': 4.811082463652564,\n",
       " 'type': 'copulas.univariate.gaussian.GaussianUnivariate'}"
      ]
     },
     "execution_count": 30,
     "metadata": {},
     "output_type": "execute_result"
    }
   ],
   "source": [
    "from copulas.univariate import GaussianUnivariate, GammaUnivariate\n",
    "\n",
    "candidates = [BetaUnivariate, GaussianUnivariate, GammaUnivariate]\n",
    "\n",
    "univariate = Univariate(candidates=candidates)\n",
    "univariate.fit(data['bimodal'])\n",
    "\n",
    "univariate.to_dict()"
   ]
  },
  {
   "cell_type": "markdown",
   "metadata": {},
   "source": [
    "However, the **Copulas** `Univariate` subclasses are organized in families to make the\n",
    "application of these constraints to the search easier.\n",
    "\n",
    "The `Univariate` families are organized in ways:\n",
    "\n",
    "* PARAMETRIC: Distributions can be either non parametric or parametric.\n",
    "* BOUNDED: Distributions can be either unbounded, semi-bounded or bounded.\n",
    "\n",
    "We can see these properties by examining the corresponding attributes of each `Univariate` subclass."
   ]
  },
  {
   "cell_type": "code",
   "execution_count": 31,
   "metadata": {},
   "outputs": [
    {
     "data": {
      "text/html": [
       "<div>\n",
       "<style scoped>\n",
       "    .dataframe tbody tr th:only-of-type {\n",
       "        vertical-align: middle;\n",
       "    }\n",
       "\n",
       "    .dataframe tbody tr th {\n",
       "        vertical-align: top;\n",
       "    }\n",
       "\n",
       "    .dataframe thead th {\n",
       "        text-align: right;\n",
       "    }\n",
       "</style>\n",
       "<table border=\"1\" class=\"dataframe\">\n",
       "  <thead>\n",
       "    <tr style=\"text-align: right;\">\n",
       "      <th></th>\n",
       "      <th>Distribution</th>\n",
       "      <th>Parametric</th>\n",
       "      <th>Bounded</th>\n",
       "    </tr>\n",
       "  </thead>\n",
       "  <tbody>\n",
       "    <tr>\n",
       "      <th>0</th>\n",
       "      <td>BetaUnivariate</td>\n",
       "      <td>ParametricType.PARAMETRIC</td>\n",
       "      <td>BoundedType.BOUNDED</td>\n",
       "    </tr>\n",
       "    <tr>\n",
       "      <th>1</th>\n",
       "      <td>GammaUnivariate</td>\n",
       "      <td>ParametricType.PARAMETRIC</td>\n",
       "      <td>BoundedType.SEMI_BOUNDED</td>\n",
       "    </tr>\n",
       "    <tr>\n",
       "      <th>2</th>\n",
       "      <td>GaussianKDE</td>\n",
       "      <td>ParametricType.NON_PARAMETRIC</td>\n",
       "      <td>BoundedType.UNBOUNDED</td>\n",
       "    </tr>\n",
       "    <tr>\n",
       "      <th>3</th>\n",
       "      <td>GaussianUnivariate</td>\n",
       "      <td>ParametricType.PARAMETRIC</td>\n",
       "      <td>BoundedType.UNBOUNDED</td>\n",
       "    </tr>\n",
       "    <tr>\n",
       "      <th>4</th>\n",
       "      <td>TruncatedGaussian</td>\n",
       "      <td>ParametricType.PARAMETRIC</td>\n",
       "      <td>BoundedType.BOUNDED</td>\n",
       "    </tr>\n",
       "  </tbody>\n",
       "</table>\n",
       "</div>"
      ],
      "text/plain": [
       "         Distribution                     Parametric                   Bounded\n",
       "0      BetaUnivariate      ParametricType.PARAMETRIC       BoundedType.BOUNDED\n",
       "1     GammaUnivariate      ParametricType.PARAMETRIC  BoundedType.SEMI_BOUNDED\n",
       "2         GaussianKDE  ParametricType.NON_PARAMETRIC     BoundedType.UNBOUNDED\n",
       "3  GaussianUnivariate      ParametricType.PARAMETRIC     BoundedType.UNBOUNDED\n",
       "4   TruncatedGaussian      ParametricType.PARAMETRIC       BoundedType.BOUNDED"
      ]
     },
     "execution_count": 31,
     "metadata": {},
     "output_type": "execute_result"
    }
   ],
   "source": [
    "from copulas.univariate import GaussianKDE, TruncatedGaussian\n",
    "\n",
    "univariates = [\n",
    "    BetaUnivariate,\n",
    "    GammaUnivariate,\n",
    "    GaussianKDE,\n",
    "    GaussianUnivariate,\n",
    "    TruncatedGaussian\n",
    "]\n",
    "\n",
    "pd.DataFrame([\n",
    "    [uni.__name__, uni.PARAMETRIC, uni.BOUNDED]\n",
    "    for uni in univariates\n",
    "], columns=['Distribution', 'Parametric', 'Bounded'])"
   ]
  },
  {
   "cell_type": "markdown",
   "metadata": {},
   "source": [
    "When searching for the best distribution, instead of building and passing the list\n",
    "of candidates by hand, we can simply pass the `parametric` or `bounded` value\n",
    "that we want use.\n",
    "\n",
    "For example, let's search again for the best distribution over the `bimodal` column of\n",
    "our dataset, but restricting the search to only `PARAMETRIC` and `BOUNDED` distributions."
   ]
  },
  {
   "cell_type": "code",
   "execution_count": 32,
   "metadata": {},
   "outputs": [
    {
     "data": {
      "text/plain": [
       "{'a': -1.5932065697344446,\n",
       " 'b': 1.2398855571316814e-14,\n",
       " 'loc': 13.193107687054022,\n",
       " 'scale': 10.315282059796969,\n",
       " 'type': 'copulas.univariate.truncated_gaussian.TruncatedGaussian'}"
      ]
     },
     "execution_count": 32,
     "metadata": {},
     "output_type": "execute_result"
    }
   ],
   "source": [
    "from copulas.univariate import ParametricType, BoundedType\n",
    "\n",
    "univariate = Univariate(\n",
    "    parametric=ParametricType.PARAMETRIC,\n",
    "    bounded=BoundedType.BOUNDED\n",
    ")\n",
    "univariate.fit(data['bimodal'])\n",
    "\n",
    "univariate.to_dict()"
   ]
  }
 ],
 "metadata": {
  "kernelspec": {
   "display_name": "Python 3",
   "language": "python",
   "name": "python3"
  },
  "language_info": {
   "codemirror_mode": {
    "name": "ipython",
    "version": 3
   },
   "file_extension": ".py",
   "mimetype": "text/x-python",
   "name": "python",
   "nbconvert_exporter": "python",
   "pygments_lexer": "ipython3",
   "version": "3.6.9"
  }
 },
 "nbformat": 4,
 "nbformat_minor": 4
}
